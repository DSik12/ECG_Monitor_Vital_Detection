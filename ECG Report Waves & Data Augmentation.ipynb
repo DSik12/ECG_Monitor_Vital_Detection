{
  "cells": [
    {
      "cell_type": "code",
      "execution_count": null,
      "metadata": {
        "id": "YqII4A0KToYC"
      },
      "outputs": [],
      "source": [
        "  import cv2\n",
        "  import numpy as np\n",
        "  import albumentations as A\n",
        "\n",
        "  def make_colors_white(img, threshold=30):\n",
        "      gray_img = cv2.cvtColor(img, cv2.COLOR_BGR2GRAY)\n",
        "\n",
        "      _, mask = cv2.threshold(gray_img, threshold, 255, cv2.THRESH_BINARY)\n",
        "\n",
        "      mask_bgr = cv2.cvtColor(mask, cv2.COLOR_GRAY2BGR)\n",
        "\n",
        "      result = cv2.addWeighted(img, 1, mask_bgr, 1, 0)\n",
        "\n",
        "      return result\n",
        "\n",
        "  def Boundary_detection(new_image):\n",
        "    inverted_image = cv2.bitwise_not(new_image)\n",
        "    gray_image = cv2.cvtColor(inverted_image, cv2.COLOR_BGR2GRAY)\n",
        "    blurred_image = cv2.GaussianBlur(gray_image, (3, 3), 0)\n",
        "    prewitt_x = cv2.filter2D(blurred_image, cv2.CV_64F, np.array([[-1, 0, 1], [-1, 0, 1], [-1, 0, 1]]))\n",
        "    prewitt_y = cv2.filter2D(blurred_image, cv2.CV_64F, np.array([[-1, -1, -1], [0, 0, 0], [1, 1, 1]]))\n",
        "\n",
        "    edges = np.sqrt(prewitt_x**2 + prewitt_y**2)\n",
        "\n",
        "    low_threshold = 50\n",
        "    high_threshold = 150\n",
        "    edges[edges < low_threshold] = 0\n",
        "    edges[edges > high_threshold] = 255\n",
        "\n",
        "    contours, _ = cv2.findContours(edges.astype(np.uint8), cv2.RETR_EXTERNAL, cv2.CHAIN_APPROX_SIMPLE)\n",
        "\n",
        "    canvas = np.zeros_like(inverted_image)\n",
        "\n",
        "    cv2.drawContours(canvas, contours, -1, (0, 255, 0), -1)  # You can change the color and thickness as per your preference\n",
        "\n",
        "    return canvas\n",
        "\n",
        "  def cropped_images(canvas):\n",
        "    aug_image1=canvas[:,0:1200]\n",
        "    aug_image2=canvas[:,755:]\n",
        "    image_list=[aug_image1,aug_image2]\n",
        "    return image_list\n",
        "\n",
        "  def augmented_images(image_list):\n",
        "    augmented_images =[]\n",
        "    for canvas in image_list:\n",
        "        rotate = A.Compose([\n",
        "            A.Rotate(p=0.67, limit=(-2, 2))\n",
        "        ])\n",
        "\n",
        "        for _ in range(3):\n",
        "          image_matrix1=rotate(image=canvas)[\"image\"]\n",
        "          crop=A.OneOf([\n",
        "                  A.RandomCrop(width=800, height=160,p=1),\n",
        "                  A.RandomCrop(width=640, height=160,p=1),\n",
        "                  A.RandomCrop(width=960, height=160,p=1),\n",
        "                  A.RandomCrop(width=1120, height=160,p=1)\n",
        "          ])\n",
        "          image_matrix2=crop(image=image_matrix1)[\"image\"]\n",
        "          augmented_images.append(image_matrix2)\n",
        "    return augmented_images\n",
        "\n",
        "  def report_to_monitor_conversion(image):\n",
        "    new_image=make_colors_white(image, threshold=30)\n",
        "    canvas=Boundary_detection(new_image)\n",
        "    cropped_image_list=cropped_images(canvas)\n",
        "    augmented_images_list=augmented_images(cropped_image_list)\n",
        "    return augmented_images_list"
      ]
    },
    {
      "cell_type": "code",
      "execution_count": null,
      "metadata": {
        "colab": {
          "base_uri": "https://localhost:8080/"
        },
        "id": "LLoiisU0VYFc",
        "outputId": "c88e9aa5-e452-4305-a088-1c920c6ddcd8"
      },
      "outputs": [
        {
          "name": "stdout",
          "output_type": "stream",
          "text": [
            "['Normal (13).jpg', 'Normal (463).jpg', 'Normal (77).jpg', 'Normal (440).jpg', 'Normal (430).jpg', 'Normal (718).jpg', 'Normal (622).jpg', 'Normal (51).jpg', 'Normal (286).jpg', 'Normal (62).jpg', 'Normal (86).jpg', 'Normal (563).jpg', 'Normal (676).jpg', 'Normal (206).jpg', 'Normal (72).jpg', 'Normal (2).jpg', 'Normal (167).jpg', 'Normal (755).jpg', 'Normal (666).jpg', 'Normal (797).jpg', 'Normal (653).jpg', 'Normal (145).jpg', 'Normal (109).jpg', 'Normal (445).jpg', 'Normal (498).jpg', 'Normal (692).jpg', 'Normal (192).jpg', 'Normal (743).jpg', 'Normal (61).jpg', 'Normal (820).jpg', 'Normal (720).jpg', 'Normal (39).jpg', 'Normal (170).jpg', 'Normal (37).jpg', 'Normal (249).jpg', 'Normal (253).jpg', 'Normal (512).jpg', 'Normal (447).jpg', 'Normal (196).jpg', 'Normal (209).jpg', 'Normal (379).jpg', 'Normal (346).jpg', 'Normal (79).jpg', 'Normal (431).jpg', 'Normal (813).jpg', 'Normal (264).jpg', 'Normal (487).jpg', 'Normal (297).jpg', 'Normal (296).jpg', 'Normal (122).jpg', 'Normal (625).jpg', 'Normal (804).jpg', 'Normal (313).jpg', 'Normal (362).jpg', 'Normal (537).jpg', 'Normal (724).jpg', 'Normal (285).jpg', 'Normal (52).jpg', 'Normal (204).jpg', 'Normal (18).jpg', 'Normal (444).jpg', 'Normal (197).jpg', 'Normal (460).jpg', 'Normal (433).jpg', 'Normal (242).jpg', 'Normal (471).jpg', 'Normal (535).jpg', 'Normal (316).jpg', 'Normal (57).jpg', 'Normal (380).jpg', 'Normal (694).jpg', 'Normal (58).jpg', 'Normal (318).jpg', 'Normal (785).jpg', 'Normal (464).jpg', 'Normal (615).jpg', 'Normal (558).jpg', 'Normal (133).jpg', 'Normal (398).jpg', 'Normal (758).jpg', 'Normal (836).jpg', 'Normal (127).jpg', 'Normal (673).jpg', 'Normal (265).jpg', 'Normal (520).jpg', 'Normal (736).jpg', 'Normal (780).jpg', 'Normal (704).jpg', 'Normal (353).jpg', 'Normal (518).jpg', 'Normal (239).jpg', 'Normal (569).jpg', 'Normal (283).jpg', 'Normal (338).jpg', 'Normal (683).jpg', 'Normal (117).jpg', 'Normal (639).jpg', 'Normal (341).jpg', 'Normal (44).jpg', 'Normal (303).jpg', 'Normal (176).jpg', 'Normal (578).jpg', 'Normal (648).jpg', 'Normal (135).jpg', 'Normal (657).jpg', 'Normal (344).jpg', 'Normal (680).jpg', 'Normal (354).jpg', 'Normal (511).jpg', 'Normal (40).jpg', 'Normal (699).jpg', 'Normal (63).jpg', 'Normal (524).jpg', 'Normal (137).jpg', 'Normal (134).jpg', 'Normal (502).jpg', 'Normal (69).jpg', 'Normal (56).jpg', 'Normal (495).jpg', 'Normal (531).jpg', 'Normal (246).jpg', 'Normal (539).jpg', 'Normal (526).jpg', 'Normal (428).jpg', 'Normal (633).jpg', 'Normal (343).jpg', 'Normal (260).jpg', 'Normal (23).jpg', 'Normal (151).jpg', 'Normal (336).jpg', 'Normal (93).jpg', 'Normal (358).jpg', 'Normal (175).jpg', 'Normal (453).jpg', 'Normal (169).jpg', 'Normal (262).jpg', 'Normal (172).jpg', 'Normal (404).jpg', 'Normal (107).jpg', 'Normal (34).jpg', 'Normal (247).jpg', 'Normal (417).jpg', 'Normal (662).jpg', 'Normal (359).jpg', 'Normal (363).jpg', 'Normal (731).jpg', 'Normal (158).jpg', 'Normal (677).jpg', 'Normal (174).jpg', 'Normal (647).jpg', 'Normal (449).jpg', 'Normal (600).jpg', 'Normal (596).jpg', 'Normal (182).jpg', 'Normal (750).jpg', 'Normal (573).jpg', 'Normal (497).jpg', 'Normal (178).jpg', 'Normal (211).jpg', 'Normal (732).jpg', 'Normal (605).jpg', 'Normal (822).jpg', 'Normal (364).jpg', 'Normal (773).jpg', 'Normal (454).jpg', 'Normal (382).jpg', 'Normal (793).jpg', 'Normal (225).jpg', 'Normal (144).jpg', 'Normal (645).jpg', 'Normal (548).jpg', 'Normal (74).jpg', 'Normal (324).jpg', 'Normal (94).jpg', 'Normal (438).jpg', 'Normal (710).jpg', 'Normal (451).jpg', 'Normal (857).jpg', 'Normal (589).jpg', 'Normal (397).jpg', 'Normal (27).jpg', 'Normal (443).jpg', 'Normal (630).jpg', 'Normal (22).jpg', 'Normal (319).jpg', 'Normal (10).jpg', 'Normal (698).jpg', 'Normal (383).jpg', 'Normal (753).jpg', 'Normal (257).jpg', 'Normal (514).jpg', 'Normal (696).jpg', 'Normal (450).jpg', 'Normal (386).jpg', 'Normal (811).jpg', 'Normal (385).jpg', 'Normal (776).jpg', 'Normal (156).jpg', 'Normal (591).jpg', 'Normal (64).jpg', 'Normal (32).jpg', 'Normal (423).jpg', 'Normal (177).jpg', 'Normal (349).jpg', 'Normal (675).jpg', 'Normal (119).jpg', 'Normal (252).jpg', 'Normal (320).jpg', 'Normal (799).jpg', 'Normal (367).jpg', 'Normal (737).jpg', 'Normal (664).jpg', 'Normal (593).jpg', 'Normal (160).jpg', 'Normal (540).jpg', 'Normal (564).jpg', 'Normal (807).jpg', 'Normal (357).jpg', 'Normal (102).jpg', 'Normal (819).jpg', 'Normal (337).jpg', 'Normal (566).jpg', 'Normal (627).jpg', 'Normal (486).jpg', 'Normal (816).jpg', 'Normal (173).jpg', 'Normal (827).jpg', 'Normal (528).jpg', 'Normal (208).jpg', 'Normal (752).jpg', 'Normal (557).jpg', 'Normal (765).jpg', 'Normal (126).jpg', 'Normal (553).jpg', 'Normal (700).jpg', 'Normal (232).jpg', 'Normal (608).jpg', 'Normal (402).jpg', 'Normal (705).jpg', 'Normal (775).jpg', 'Normal (841).jpg', 'Normal (290).jpg', 'Normal (580).jpg', 'Normal (412).jpg', 'Normal (12).jpg', 'Normal (690).jpg', 'Normal (614).jpg', 'Normal (489).jpg', 'Normal (656).jpg', 'Normal (92).jpg', 'Normal (725).jpg', 'Normal (399).jpg', 'Normal (256).jpg', 'Normal (15).jpg', 'Normal (735).jpg', 'Normal (713).jpg', 'Normal (663).jpg', 'Normal (599).jpg', 'Normal (96).jpg', 'Normal (185).jpg', 'Normal (516).jpg', 'Normal (38).jpg', 'Normal (400).jpg', 'Normal (45).jpg', 'Normal (142).jpg', 'Normal (371).jpg', 'Normal (384).jpg', 'Normal (223).jpg', 'Normal (368).jpg', 'Normal (439).jpg', 'Normal (855).jpg', 'Normal (598).jpg', 'Normal (271).jpg', 'Normal (612).jpg', 'Normal (568).jpg', 'Normal (788).jpg', 'Normal (462).jpg', 'Normal (726).jpg', 'Normal (523).jpg', 'Normal (850).jpg', 'Normal (26).jpg', 'Normal (620).jpg', 'Normal (521).jpg', 'Normal (233).jpg', 'Normal (214).jpg', 'Normal (193).jpg', 'Normal (791).jpg', 'Normal (571).jpg', 'Normal (395).jpg', 'Normal (295).jpg', 'Normal (388).jpg', 'Normal (818).jpg', 'Normal (478).jpg', 'Normal (101).jpg', 'Normal (744).jpg', 'Normal (655).jpg', 'Normal (475).jpg', 'Normal (146).jpg', 'Normal (112).jpg', 'Normal (301).jpg', 'Normal (613).jpg', 'Normal (709).jpg', 'Normal (82).jpg', 'Normal (275).jpg', 'Normal (814).jpg', 'Normal (374).jpg', 'Normal (499).jpg', 'Normal (53).jpg', 'Normal (496).jpg', 'Normal (148).jpg', 'Normal (761).jpg', 'Normal (381).jpg', 'Normal (544).jpg', 'Normal (35).jpg', 'Normal (326).jpg', 'Normal (91).jpg', 'Normal (59).jpg', 'Normal (470).jpg', 'Normal (42).jpg', 'Normal (479).jpg', 'Normal (73).jpg', 'Normal (587).jpg', 'Normal (421).jpg', 'Normal (590).jpg', 'Normal (617).jpg', 'Normal (824).jpg', 'Normal (801).jpg', 'Normal (734).jpg', 'Normal (159).jpg', 'Normal (306).jpg', 'Normal (123).jpg', 'Normal (361).jpg', 'Normal (390).jpg', 'Normal (235).jpg', 'Normal (706).jpg', 'Normal (606).jpg', 'Normal (771).jpg', 'Normal (88).jpg', 'Normal (270).jpg', 'Normal (311).jpg', 'Normal (551).jpg', 'Normal (759).jpg', 'Normal (229).jpg', 'Normal (646).jpg', 'Normal (826).jpg', 'Normal (243).jpg', 'Normal (180).jpg', 'Normal (703).jpg', 'Normal (132).jpg', 'Normal (828).jpg', 'Normal (305).jpg', 'Normal (468).jpg', 'Normal (763).jpg', 'Normal (854).jpg', 'Normal (695).jpg', 'Normal (98).jpg', 'Normal (607).jpg', 'Normal (538).jpg', 'Normal (715).jpg', 'Normal (234).jpg', 'Normal (840).jpg', 'Normal (414).jpg', 'Normal (166).jpg', 'Normal (582).jpg', 'Normal (749).jpg', 'Normal (184).jpg', 'Normal (534).jpg', 'Normal (821).jpg', 'Normal (594).jpg', 'Normal (244).jpg', 'Normal (803).jpg', 'Normal (651).jpg', 'Normal (114).jpg', 'Normal (21).jpg', 'Normal (405).jpg', 'Normal (347).jpg', 'Normal (356).jpg', 'Normal (241).jpg', 'Normal (638).jpg', 'Normal (304).jpg', 'Normal (267).jpg', 'Normal (274).jpg', 'Normal (136).jpg', 'Normal (435).jpg', 'Normal (532).jpg', 'Normal (299).jpg', 'Normal (263).jpg', 'Normal (152).jpg', 'Normal (488).jpg', 'Normal (766).jpg', 'Normal (691).jpg', 'Normal (258).jpg', 'Normal (652).jpg', 'Normal (71).jpg', 'Normal (716).jpg', 'Normal (389).jpg', 'Normal (693).jpg', 'Normal (150).jpg', 'Normal (505).jpg', 'Normal (834).jpg']\n"
          ]
        }
      ],
      "source": [
        "import os\n",
        "\n",
        "directory_path = r'/content/drive/MyDrive/Normal Person ECG Images (859)(Random)'\n",
        "\n",
        "all_files = os.listdir(directory_path)\n",
        "\n",
        "image_files = [file for file in all_files if file.lower().endswith(('.jpg', '.jpeg', '.png', '.gif', '.bmp'))]\n",
        "\n",
        "print(image_files)"
      ]
    },
    {
      "cell_type": "code",
      "execution_count": null,
      "metadata": {
        "id": "7FMh0dHMV5yW"
      },
      "outputs": [],
      "source": [
        "path=r'/content/drive/MyDrive/Normal Person ECG Images (859)(Random)'\n",
        "for img in image_files:\n",
        "  initial_image=cv2.imread(f\"{path}/{img}\")\n",
        "  final_image=initial_image[1280:1440,170:2127]\n",
        "  augmented_images_list=report_to_monitor_conversion(final_image)\n",
        "  for i, image in enumerate(augmented_images_list):\n",
        "    cv2.imwrite(f'/content/drive/MyDrive/Augmented-Normal/{img[0:-4]}_{i + 1}.jpeg', image)\n"
      ]
    },
    {
      "cell_type": "code",
      "execution_count": null,
      "metadata": {
        "colab": {
          "base_uri": "https://localhost:8080/"
        },
        "id": "JPf58ZqKbzNq",
        "outputId": "03431f86-1c8a-47ca-dee0-c62fcf936f28"
      },
      "outputs": [
        {
          "name": "stdout",
          "output_type": "stream",
          "text": [
            "['HB   (123).jpg', 'HB (321).jpg', 'HB   (15).jpg', 'HB (204).jpg', 'HB   (42).jpg', 'HB (330).jpg', 'HB   (95).jpg', 'HB   (141).jpg', 'HB (213).jpg', 'HB   (105).jpg', 'HB   (132).jpg', 'HB   (24).jpg', 'HB (222).jpg', 'HB   (60).jpg', 'HB (303).jpg', 'HB (240).jpg', 'HB   (114).jpg', 'HB   (150).jpg', 'HB (231).jpg', 'HB   (33).jpg', 'HB (284).jpg', 'HB   (51).jpg', 'HB (312).jpg', 'HB   (6).jpg', 'HB (365).jpg', 'HB   (68).jpg', 'HB (266).jpg', 'HB   (167).jpg', 'HB   (176).jpg', 'HB (248).jpg', 'HB (383).jpg', 'HB (293).jpg', 'HB (347).jpg', 'HB   (149).jpg', 'HB (374).jpg', 'HB (329).jpg', 'HB   (59).jpg', 'HB   (77).jpg', 'HB (185).jpg', 'HB (257).jpg', 'HB (275).jpg', 'HB   (158).jpg', 'HB (338).jpg', 'HB   (55).jpg', 'HB   (127).jpg', 'HB   (86).jpg', 'HB (239).jpg', 'HB   (19).jpg', 'HB (356).jpg', 'HB (208).jpg', 'HB (194).jpg', 'HB (325).jpg', 'HB (392).jpg', 'HB (280).jpg', 'HB (361).jpg', 'HB   (163).jpg', 'HB   (91).jpg', 'HB   (73).jpg', 'HB (244).jpg', 'HB (370).jpg', 'HB (334).jpg', 'HB   (172).jpg', 'HB   (64).jpg', 'HB (226).jpg', 'HB   (28).jpg', 'HB (253).jpg', 'HB   (109).jpg', 'HB (307).jpg', 'HB   (145).jpg', 'HB (217).jpg', 'HB   (136).jpg', 'HB (343).jpg', 'HB   (37).jpg', 'HB (262).jpg', 'HB (181).jpg', 'HB (352).jpg', 'HB (271).jpg', 'HB (235).jpg', 'HB   (20).jpg', 'HB   (2).jpg', 'HB (189).jpg', 'HB (316).jpg', 'HB (198).jpg', 'HB (378).jpg', 'HB   (101).jpg', 'HB (190).jpg', 'HB   (110).jpg', 'HB   (82).jpg', 'HB (369).jpg', 'HB (297).jpg', 'HB (288).jpg', 'HB   (46).jpg', 'HB   (118).jpg', 'HB (279).jpg', 'HB (387).jpg', 'HB   (99).jpg', 'HB   (154).jpg', 'HB   (35).jpg', 'HB   (17).jpg', 'HB   (71).jpg', 'HB   (161).jpg', 'HB (206).jpg', 'HB   (107).jpg', 'HB (323).jpg', 'HB   (143).jpg', 'HB   (125).jpg', 'HB   (53).jpg', 'HB (260).jpg', 'HB   (8).jpg', 'HB (200).jpg', 'HB (224).jpg', 'HB (305).jpg', 'HB (396).jpg', 'HB   (11).jpg', 'HB (341).jpg', 'HB   (26).jpg', 'HB   (152).jpg', 'HB (332).jpg', 'HB   (79).jpg', 'HB (233).jpg', 'HB   (170).jpg', 'HB   (134).jpg', 'HB (215).jpg', 'HB (242).jpg', 'HB   (44).jpg', 'HB   (80).jpg', 'HB   (62).jpg', 'HB (314).jpg', 'HB (251).jpg', 'HB (350).jpg', 'HB (349).jpg', 'HB (268).jpg', 'HB   (116).jpg', 'HB (277).jpg', 'HB (295).jpg', 'HB   (88).jpg', 'HB (376).jpg', 'HB (259).jpg', 'HB (394).jpg', 'HB (196).jpg', 'HB (358).jpg', 'HB   (178).jpg', 'HB   (97).jpg', 'HB (367).jpg', 'HB (385).jpg', 'HB   (169).jpg', 'HB (286).jpg', 'HB   (75).jpg', 'HB   (165).jpg', 'HB   (147).jpg', 'HB (309).jpg', 'HB (363).jpg', 'HB   (93).jpg', 'HB (183).jpg', 'HB   (39).jpg', 'HB (264).jpg', 'HB (237).jpg', 'HB (345).jpg', 'HB (381).jpg', 'HB   (57).jpg', 'HB (318).jpg', 'HB   (129).jpg', 'HB (228).jpg', 'HB (327).jpg', 'HB (282).jpg', 'HB   (48).jpg', 'HB (246).jpg', 'HB (372).jpg', 'HB (390).jpg', 'HB (255).jpg', 'HB (310).jpg', 'HB (354).jpg', 'HB   (138).jpg', 'HB (336).jpg', 'HB (389).jpg', 'HB (219).jpg', 'HB   (112).jpg', 'HB   (66).jpg', 'HB   (84).jpg', 'HB   (174).jpg', 'HB   (156).jpg', 'HB (291).jpg', 'HB (273).jpg', 'HB (192).jpg', 'HB (211).jpg', 'HB   (40).jpg', 'HB   (22).jpg', 'HB   (4).jpg', 'HB (202).jpg', 'HB (220).jpg', 'HB (232).jpg', 'HB   (13).jpg', 'HB   (43).jpg', 'HB   (61).jpg', 'HB (398).jpg', 'HB (313).jpg', 'HB   (121).jpg', 'HB   (151).jpg', 'HB   (103).jpg', 'HB (214).jpg', 'HB   (130).jpg', 'HB (299).jpg', 'HB (301).jpg', 'HB (250).jpg', 'HB (331).jpg', 'HB   (115).jpg', 'HB   (31).jpg', 'HB   (159).jpg', 'HB (340).jpg', 'HB   (16).jpg', 'HB   (34).jpg', 'HB (223).jpg', 'HB (241).jpg', 'HB (195).jpg', 'HB   (142).jpg', 'HB   (25).jpg', 'HB (393).jpg', 'HB   (124).jpg', 'HB   (133).jpg', 'HB   (52).jpg', 'HB (304).jpg', 'HB   (106).jpg', 'HB   (7).jpg', 'HB (205).jpg', 'HB   (160).jpg', 'HB   (70).jpg', 'HB (322).jpg', 'HB   (177).jpg', 'HB (339).jpg', 'HB (267).jpg', 'HB   (168).jpg', 'HB (186).jpg', 'HB (375).jpg', 'HB (276).jpg', 'HB (258).jpg', 'HB (294).jpg', 'HB (366).jpg', 'HB (348).jpg', 'HB (384).jpg', 'HB (285).jpg', 'HB   (96).jpg', 'HB (357).jpg', 'HB   (87).jpg', 'HB   (78).jpg', 'HB   (69).jpg', 'HB   (119).jpg', 'HB (371).jpg', 'HB   (47).jpg', 'HB (317).jpg', 'HB (290).jpg', 'HB (191).jpg', 'HB   (155).jpg', 'HB (236).jpg', 'HB   (83).jpg', 'HB   (137).jpg', 'HB (335).jpg', 'HB (218).jpg', 'HB (272).jpg', 'HB (353).jpg', 'HB   (173).jpg', 'HB   (29).jpg', 'HB   (92).jpg', 'HB (209).jpg', 'HB   (38).jpg', 'HB (281).jpg', 'HB   (164).jpg', 'HB (380).jpg', 'HB (308).jpg', 'HB (245).jpg', 'HB (263).jpg', 'HB   (65).jpg', 'HB (362).jpg', 'HB (227).jpg', 'HB (254).jpg', 'HB   (56).jpg', 'HB   (128).jpg', 'HB   (146).jpg', 'HB (326).jpg', 'HB (289).jpg', 'HB (210).jpg', 'HB (298).jpg', 'HB   (111).jpg', 'HB   (12).jpg', 'HB   (30).jpg', 'HB   (74).jpg', 'HB   (21).jpg', 'HB (199).jpg', 'HB (333).jpg', 'HB (182).jpg', 'HB (216).jpg', 'HB (344).jpg', 'HB (397).jpg', 'HB   (135).jpg', 'HB (379).jpg', 'HB (201).jpg', 'HB (388).jpg', 'HB   (27).jpg', 'HB   (120).jpg', 'HB   (102).jpg', 'HB   (3).jpg', 'HB (300).jpg', 'HB (270).jpg', 'HB (306).jpg', 'HB   (45).jpg', 'HB   (153).jpg', 'HB   (36).jpg', 'HB (252).jpg', 'HB   (144).jpg', 'HB (234).jpg', 'HB   (63).jpg', 'HB   (117).jpg', 'HB (351).jpg', 'HB (225).jpg', 'HB   (171).jpg', 'HB   (81).jpg', 'HB (315).jpg', 'HB   (179).jpg', 'HB (261).jpg', 'HB   (18).jpg', 'HB   (54).jpg', 'HB (243).jpg', 'HB   (126).jpg', 'HB (207).jpg', 'HB   (162).jpg', 'HB (324).jpg', 'HB   (180).jpg', 'HB (342).jpg', 'HB (377).jpg', 'HB (296).jpg', 'HB   (1).jpg', 'HB (360).jpg', 'HB   (90).jpg', 'HB   (9).jpg', 'HB   (108).jpg', 'HB   (72).jpg', 'HB (337).jpg', 'HB   (89).jpg', 'HB   (10).jpg', 'HB (269).jpg', 'HB   (98).jpg', 'HB (287).jpg', 'HB (256).jpg', 'HB (373).jpg', 'HB (359).jpg', 'HB (395).jpg', 'HB (278).jpg', 'HB   (139).jpg', 'HB (197).jpg', 'HB   (85).jpg', 'HB   (100).jpg', 'HB (386).jpg', 'HB (292).jpg', 'HB (188).jpg', 'HB (368).jpg', 'HB   (67).jpg', 'HB   (175).jpg', 'HB   (157).jpg', 'HB (391).jpg', 'HB   (76).jpg', 'HB (193).jpg', 'HB (265).jpg', 'HB   (148).jpg', 'HB   (49).jpg', 'HB (229).jpg', 'HB (382).jpg', 'HB (238).jpg', 'HB (319).jpg', 'HB (346).jpg', 'HB (274).jpg', 'HB (184).jpg', 'HB (355).jpg', 'HB (203).jpg', 'HB   (94).jpg', 'HB (302).jpg', 'HB   (113).jpg', 'HB   (41).jpg', 'HB   (5).jpg', 'HB (230).jpg', 'HB (221).jpg', 'HB   (122).jpg', 'HB (399).jpg', 'HB   (32).jpg', 'HB (328).jpg', 'HB   (166).jpg', 'HB (283).jpg', 'HB   (58).jpg', 'HB (364).jpg', 'HB   (50).jpg', 'HB   (140).jpg', 'HB   (104).jpg', 'HB (320).jpg', 'HB (311).jpg', 'HB (247).jpg', 'HB   (14).jpg', 'HB (212).jpg', 'HB   (131).jpg', 'HB   (23).jpg']\n"
          ]
        }
      ],
      "source": [
        "\n",
        "directory_path = r'/content/drive/MyDrive/ECG Images of Patient that have abnormal heart beats (548)'\n",
        "\n",
        "all_files = os.listdir(directory_path)\n",
        "\n",
        "image_files = [file for file in all_files if file.lower().endswith(('.jpg', '.jpeg', '.png', '.gif', '.bmp'))]\n",
        "\n",
        "print(image_files)"
      ]
    },
    {
      "cell_type": "code",
      "execution_count": null,
      "metadata": {
        "id": "yfynliAEcDSq"
      },
      "outputs": [],
      "source": [
        "path=r'/content/drive/MyDrive/ECG Images of Patient that have abnormal heart beats (548)'\n",
        "\n",
        "for img in image_files:\n",
        "  initial_image=cv2.imread(f\"{path}/{img}\")\n",
        "  final_image=initial_image[1280:1440,170:2127]\n",
        "  augmented_images_list=report_to_monitor_conversion(final_image)\n",
        "  for i, image in enumerate(augmented_images_list):\n",
        "    cv2.imwrite(f'/content/drive/MyDrive/Augmented-Abnormal/{img[0:-4]}_{i + 1}.jpeg', image)"
      ]
    }
  ],
  "metadata": {
    "accelerator": "GPU",
    "colab": {
      "gpuType": "T4",
      "provenance": []
    },
    "kernelspec": {
      "display_name": "Python 3",
      "name": "python3"
    },
    "language_info": {
      "name": "python"
    }
  },
  "nbformat": 4,
  "nbformat_minor": 0
}
